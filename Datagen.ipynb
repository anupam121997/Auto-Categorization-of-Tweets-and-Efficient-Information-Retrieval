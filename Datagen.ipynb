{
 "cells": [
  {
   "cell_type": "code",
   "execution_count": 2,
   "id": "helpful-setup",
   "metadata": {},
   "outputs": [],
   "source": [
    "import pandas as pd"
   ]
  },
  {
   "cell_type": "code",
   "execution_count": 3,
   "id": "champion-resistance",
   "metadata": {},
   "outputs": [
    {
     "data": {
      "text/plain": [
       "(4699, 38)"
      ]
     },
     "execution_count": 3,
     "metadata": {},
     "output_type": "execute_result"
    }
   ],
   "source": [
    "data_technology = pd.read_json('tweets_technology.json', lines = True)\n",
    "data_technology.sort_values('text',inplace=True)\n",
    "data_technology.drop_duplicates(subset='text',keep = False, inplace=True)\n",
    "data_technology = data_technology.sample(frac = 0.51)\n",
    "data_technology.shape"
   ]
  },
  {
   "cell_type": "code",
   "execution_count": 4,
   "id": "sustainable-princeton",
   "metadata": {},
   "outputs": [
    {
     "data": {
      "text/plain": [
       "(4768, 37)"
      ]
     },
     "execution_count": 4,
     "metadata": {},
     "output_type": "execute_result"
    }
   ],
   "source": [
    "data_sports = pd.read_json('tweets_sports.json', lines = True)\n",
    "data_sports.sort_values('text',inplace=True)\n",
    "data_sports.drop_duplicates(subset='text',keep = False, inplace=True)\n",
    "data_sports.shape"
   ]
  },
  {
   "cell_type": "code",
   "execution_count": 5,
   "id": "thick-yeast",
   "metadata": {},
   "outputs": [
    {
     "data": {
      "text/plain": [
       "(4675, 36)"
      ]
     },
     "execution_count": 5,
     "metadata": {},
     "output_type": "execute_result"
    }
   ],
   "source": [
    "data_entertainment = pd.read_json('tweets_entertainment.json', lines = True)\n",
    "data_entertainment.sort_values('text',inplace=True)\n",
    "data_entertainment.drop_duplicates(subset='text',keep = False, inplace=True)\n",
    "data_entertainment.shape"
   ]
  },
  {
   "cell_type": "code",
   "execution_count": 6,
   "id": "forty-christian",
   "metadata": {},
   "outputs": [
    {
     "data": {
      "text/plain": [
       "(4536, 37)"
      ]
     },
     "execution_count": 6,
     "metadata": {},
     "output_type": "execute_result"
    }
   ],
   "source": [
    "data_education = pd.read_json('tweets_education.json', lines = True)\n",
    "data_education.sort_values('text',inplace=True)\n",
    "data_education.drop_duplicates(subset='text',keep = False, inplace=True)\n",
    "data_education.shape"
   ]
  },
  {
   "cell_type": "code",
   "execution_count": 7,
   "id": "incorrect-humidity",
   "metadata": {},
   "outputs": [
    {
     "data": {
      "text/plain": [
       "(4469, 37)"
      ]
     },
     "execution_count": 7,
     "metadata": {},
     "output_type": "execute_result"
    }
   ],
   "source": [
    "data_politics = pd.read_json('tweets_politics.json', lines = True)\n",
    "data_politics.sort_values('text',inplace=True)\n",
    "data_politics.drop_duplicates(subset='text',keep = False, inplace=True)\n",
    "data_politics.shape"
   ]
  },
  {
   "cell_type": "code",
   "execution_count": 8,
   "id": "stunning-alaska",
   "metadata": {},
   "outputs": [],
   "source": [
    "df_technology = pd.DataFrame()\n",
    "df_technology['id'] = data_technology['id']\n",
    "df_technology['class'] = 'technology'\n",
    "df_technology['text'] = data_technology['text']\n",
    "\n",
    "df_sports = pd.DataFrame()\n",
    "df_sports['id'] = data_sports['id']\n",
    "df_sports['class'] = 'sports'\n",
    "df_sports['text'] = data_sports['text']\n",
    "\n",
    "df_entertainment = pd.DataFrame()\n",
    "df_entertainment['id'] = data_entertainment['id']\n",
    "df_entertainment['class'] = 'entertainment'\n",
    "df_entertainment['text'] = data_entertainment['text']\n",
    "\n",
    "df_education = pd.DataFrame()\n",
    "df_education['id'] = data_education['id']\n",
    "df_education['class'] = 'education'\n",
    "df_education['text'] = data_education['text']\n",
    "\n",
    "df_politics = pd.DataFrame()\n",
    "df_politics['id'] = data_politics['id']\n",
    "df_politics['class'] = 'politics'\n",
    "df_politics['text'] = data_politics['text']"
   ]
  },
  {
   "cell_type": "code",
   "execution_count": 9,
   "id": "enhanced-running",
   "metadata": {},
   "outputs": [
    {
     "data": {
      "text/plain": [
       "(23147, 3)"
      ]
     },
     "execution_count": 9,
     "metadata": {},
     "output_type": "execute_result"
    }
   ],
   "source": [
    "frames = [df_politics, df_technology, df_education, df_entertainment, df_sports]\n",
    "\n",
    "df = pd.concat(frames)\n",
    "\n",
    "df = df.sample(frac = 1)\n",
    "\n",
    "df.shape\n",
    "\n",
    "#df.to_csv('Tweet_dataset_new.csv',index=False)"
   ]
  },
  {
   "cell_type": "code",
   "execution_count": 12,
   "id": "approved-railway",
   "metadata": {},
   "outputs": [],
   "source": [
    "df = df[df['text'].str.split().str.len().gt(4)]"
   ]
  },
  {
   "cell_type": "code",
   "execution_count": 13,
   "id": "thrown-string",
   "metadata": {},
   "outputs": [
    {
     "data": {
      "text/plain": [
       "(22233, 3)"
      ]
     },
     "execution_count": 13,
     "metadata": {},
     "output_type": "execute_result"
    }
   ],
   "source": [
    "df.shape"
   ]
  },
  {
   "cell_type": "code",
   "execution_count": 14,
   "id": "dirty-cardiff",
   "metadata": {},
   "outputs": [
    {
     "data": {
      "text/html": [
       "<div>\n",
       "<style scoped>\n",
       "    .dataframe tbody tr th:only-of-type {\n",
       "        vertical-align: middle;\n",
       "    }\n",
       "\n",
       "    .dataframe tbody tr th {\n",
       "        vertical-align: top;\n",
       "    }\n",
       "\n",
       "    .dataframe thead th {\n",
       "        text-align: right;\n",
       "    }\n",
       "</style>\n",
       "<table border=\"1\" class=\"dataframe\">\n",
       "  <thead>\n",
       "    <tr style=\"text-align: right;\">\n",
       "      <th></th>\n",
       "      <th>id</th>\n",
       "      <th>class</th>\n",
       "      <th>text</th>\n",
       "    </tr>\n",
       "  </thead>\n",
       "  <tbody>\n",
       "    <tr>\n",
       "      <th>6053</th>\n",
       "      <td>1.373182e+18</td>\n",
       "      <td>education</td>\n",
       "      <td>RT @talkRADIO: Chris McGovern, from the Campai...</td>\n",
       "    </tr>\n",
       "    <tr>\n",
       "      <th>9959</th>\n",
       "      <td>1.372867e+18</td>\n",
       "      <td>sports</td>\n",
       "      <td>@ChelseaFC The two times I taped it it was bay...</td>\n",
       "    </tr>\n",
       "    <tr>\n",
       "      <th>12173</th>\n",
       "      <td>1.372975e+18</td>\n",
       "      <td>entertainment</td>\n",
       "      <td>@iSTRAWT4E RM WE ARE SO PROUD OF YOU \\n#RMixta...</td>\n",
       "    </tr>\n",
       "    <tr>\n",
       "      <th>19797</th>\n",
       "      <td>1.373323e+18</td>\n",
       "      <td>politics</td>\n",
       "      <td>The revelation comes days after the former ass...</td>\n",
       "    </tr>\n",
       "    <tr>\n",
       "      <th>3071</th>\n",
       "      <td>1.371342e+18</td>\n",
       "      <td>education</td>\n",
       "      <td>RT @JkLatestUpdates: [AICTE ]\\n.\\n.\\n&amp;gt;&amp;gt; ...</td>\n",
       "    </tr>\n",
       "    <tr>\n",
       "      <th>...</th>\n",
       "      <td>...</td>\n",
       "      <td>...</td>\n",
       "      <td>...</td>\n",
       "    </tr>\n",
       "    <tr>\n",
       "      <th>1156</th>\n",
       "      <td>1.361949e+18</td>\n",
       "      <td>sports</td>\n",
       "      <td>Morning Owls fans - have a great day today 👍\\n...</td>\n",
       "    </tr>\n",
       "    <tr>\n",
       "      <th>14002</th>\n",
       "      <td>1.372933e+18</td>\n",
       "      <td>technology</td>\n",
       "      <td>We've just posted a new blog: 2021 Spring | Su...</td>\n",
       "    </tr>\n",
       "    <tr>\n",
       "      <th>3272</th>\n",
       "      <td>1.370269e+18</td>\n",
       "      <td>sports</td>\n",
       "      <td>Friday 12 pm 6th sense saying \\nIndia will be ...</td>\n",
       "    </tr>\n",
       "    <tr>\n",
       "      <th>8397</th>\n",
       "      <td>1.372941e+18</td>\n",
       "      <td>technology</td>\n",
       "      <td>#CryptoNews: Cryptocurrency exchange LATOKEN r...</td>\n",
       "    </tr>\n",
       "    <tr>\n",
       "      <th>6333</th>\n",
       "      <td>1.372622e+18</td>\n",
       "      <td>politics</td>\n",
       "      <td>RT @WhiteSammy_: How it came in and How it lef...</td>\n",
       "    </tr>\n",
       "  </tbody>\n",
       "</table>\n",
       "<p>22233 rows × 3 columns</p>\n",
       "</div>"
      ],
      "text/plain": [
       "                 id          class  \\\n",
       "6053   1.373182e+18      education   \n",
       "9959   1.372867e+18         sports   \n",
       "12173  1.372975e+18  entertainment   \n",
       "19797  1.373323e+18       politics   \n",
       "3071   1.371342e+18      education   \n",
       "...             ...            ...   \n",
       "1156   1.361949e+18         sports   \n",
       "14002  1.372933e+18     technology   \n",
       "3272   1.370269e+18         sports   \n",
       "8397   1.372941e+18     technology   \n",
       "6333   1.372622e+18       politics   \n",
       "\n",
       "                                                    text  \n",
       "6053   RT @talkRADIO: Chris McGovern, from the Campai...  \n",
       "9959   @ChelseaFC The two times I taped it it was bay...  \n",
       "12173  @iSTRAWT4E RM WE ARE SO PROUD OF YOU \\n#RMixta...  \n",
       "19797  The revelation comes days after the former ass...  \n",
       "3071   RT @JkLatestUpdates: [AICTE ]\\n.\\n.\\n&gt;&gt; ...  \n",
       "...                                                  ...  \n",
       "1156   Morning Owls fans - have a great day today 👍\\n...  \n",
       "14002  We've just posted a new blog: 2021 Spring | Su...  \n",
       "3272   Friday 12 pm 6th sense saying \\nIndia will be ...  \n",
       "8397   #CryptoNews: Cryptocurrency exchange LATOKEN r...  \n",
       "6333   RT @WhiteSammy_: How it came in and How it lef...  \n",
       "\n",
       "[22233 rows x 3 columns]"
      ]
     },
     "execution_count": 14,
     "metadata": {},
     "output_type": "execute_result"
    }
   ],
   "source": [
    "df"
   ]
  }
 ],
 "metadata": {
  "kernelspec": {
   "display_name": "Python 3",
   "language": "python",
   "name": "python3"
  },
  "language_info": {
   "codemirror_mode": {
    "name": "ipython",
    "version": 3
   },
   "file_extension": ".py",
   "mimetype": "text/x-python",
   "name": "python",
   "nbconvert_exporter": "python",
   "pygments_lexer": "ipython3",
   "version": "3.8.5"
  }
 },
 "nbformat": 4,
 "nbformat_minor": 5
}
