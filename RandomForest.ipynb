{
 "cells": [
  {
   "cell_type": "code",
   "execution_count": 12,
   "id": "affecting-dover",
   "metadata": {},
   "outputs": [],
   "source": [
    "import pandas as pd\n",
    "import re\n",
    "import string\n",
    "import nltk\n",
    "from nltk.corpus import stopwords\n",
    "from nltk.tokenize import word_tokenize\n",
    "stop_words = set(stopwords.words('english'))\n",
    "import wordsegment as ws \n",
    "ws.load() \n",
    "import random\n",
    "import math\n",
    "import numpy as np\n",
    "from sklearn.model_selection import train_test_split\n",
    "from sklearn.pipeline import make_pipeline\n",
    "from sklearn.feature_extraction.text import TfidfVectorizer\n",
    "from sklearn.naive_bayes import MultinomialNB\n",
    "from sklearn.neighbors import NearestCentroid\n",
    "from sklearn.ensemble import RandomForestClassifier\n",
    "from sklearn import svm\n",
    "from sklearn.metrics import accuracy_score,recall_score\n",
    "import joblib"
   ]
  },
  {
   "cell_type": "code",
   "execution_count": 13,
   "id": "handy-relation",
   "metadata": {},
   "outputs": [],
   "source": [
    "def clean_tweets(text):  \n",
    "    text = text.lower()\n",
    "    text_pattern = re.compile('http[s]?://(?:[a-zA-Z]|[0-9]|[$-_@.&+]|[!*\\(\\),]|(?:%[0-9a-fA-F][0-9a-fA-F]|))+')\n",
    "    text = text_pattern.sub('', text)\n",
    "    emoji = re.compile(\"[\"\n",
    "                        u\"\\U0001F600-\\U0001FFFF\"   #EMOJIS\n",
    "                        u\"\\U0001F300-\\U0001F5FF\"   #Symbols and Pictographs\n",
    "                        u\"\\U0001F680-\\U0001F6FF\"   #map symbols\n",
    "                        u\"\\U0001F1E0-\\U0001F1FF\"   #flags\n",
    "                        u\"\\U00002702-\\U000027B0\"\n",
    "                        u\"\\U000024C2-\\U0001F251\"\n",
    "                        \"]+\", flags=re.UNICODE)\n",
    "    text = emoji.sub(r'', text)\n",
    "    text = re.sub(r'@[a-z0-9]+','',text)\n",
    "   # text = re.sub(r'#', '', text)\n",
    "    text = re.sub(r\"i'm\", \"i am\", text)\n",
    "    text = re.sub(r\"he's\", \"he is\", text)\n",
    "    text = re.sub(r\"she's\", \"she is\", text)\n",
    "    text = re.sub(r\"that's\", \"that is\", text)\n",
    "    text = re.sub(r\"this's\", \"this is\", text)\n",
    "    text = re.sub(r\"what's\", \"what is\", text)\n",
    "    text = re.sub(r\"where's\", \"where is\", text)\n",
    "    text = re.sub(r\"\\'ll\", \"will\", text)\n",
    "    text = re.sub(r\"\\'ve\", \"have\", text)\n",
    "    text = re.sub(r\"\\'m\", \"am\", text)\n",
    "    text = re.sub(r\"\\'d\", \"would\", text)\n",
    "    text = re.sub(r\"\\'re\", \"are\", text)\n",
    "    text = re.sub(r\"won't\", \"will not\", text)\n",
    "    text = re.sub(r\"don't\", \"do not\", text)\n",
    "    text = re.sub(r\"didn't\", \"did not\", text)\n",
    "    text = re.sub(r\"can't\", \"can not\", text)\n",
    "    text = re.sub(r\"it's\", \"it is\", text)\n",
    "    text = re.sub(r\"couldn't\", \"could not\", text)\n",
    "    text = re.sub(r\"haven't\", \"have not\", text)\n",
    "    text = re.sub(r'rt[\\s]+', '', text)\n",
    "\n",
    "    text = re.sub(r\"[,.\\\"!#$%^&*(){}?/;'~:<>+=-]\", \"\", text)\n",
    "    \n",
    "    tokens = word_tokenize(text)\n",
    "    \n",
    "    text = [ws.clean(w) for w in text if len(ws.clean(w)) > 0]\n",
    "    text = [ws.segment(w)[0] for w in text]   #segmentation\n",
    "    \n",
    "    stop_words = set(stopwords.words(\"english\"))\n",
    "    stop_words.discard(\"not\")\n",
    "    table = str.maketrans('','',string.punctuation)\n",
    "    stripped = [w.translate(table) for w in tokens]\n",
    "    words = [word for word in stripped if word.isalpha()]\n",
    "\n",
    "    words = [w for w in words if not w in stop_words]\n",
    "    words = ' '.join(words)\n",
    "        \n",
    "    return words"
   ]
  },
  {
   "cell_type": "code",
   "execution_count": 11,
   "id": "curious-greece",
   "metadata": {},
   "outputs": [
    {
     "name": "stdout",
     "output_type": "stream",
     "text": [
      "Training Accuracy: 99.2590226764612\n",
      "Validation Accuracy: 82.14103219213081\n",
      "0.992590226764612\n",
      "0.8214103219213081\n",
      "Training Accuracy: 99.76365378473331\n",
      "Validation Accuracy: 83.2396525293817\n",
      "0.9976365378473331\n",
      "0.832396525293817\n",
      "Training Accuracy: 99.9872245289045\n",
      "Validation Accuracy: 83.85283597342872\n",
      "0.9998722452890451\n",
      "0.8385283597342872\n",
      "Training Accuracy: 99.98083679335676\n",
      "Validation Accuracy: 84.10832907511498\n",
      "0.9998083679335675\n",
      "0.8410832907511497\n",
      "Training Accuracy: 99.9872245289045\n",
      "Validation Accuracy: 83.75063873275421\n",
      "0.9998722452890451\n",
      "0.8375063873275421\n",
      "Training Accuracy: 99.9872245289045\n",
      "Validation Accuracy: 83.9294839039346\n",
      "0.9998722452890451\n",
      "0.839294839039346\n",
      "Training Accuracy: 99.9872245289045\n",
      "Validation Accuracy: 83.87838528359734\n",
      "0.9998722452890451\n",
      "0.8387838528359735\n",
      "Training Accuracy: 99.9872245289045\n",
      "Validation Accuracy: 83.85283597342872\n",
      "0.9998722452890451\n",
      "0.8385283597342872\n",
      "Training Accuracy: 99.9872245289045\n",
      "Validation Accuracy: 84.08277976494635\n",
      "0.9998722452890451\n",
      "0.8408277976494635\n",
      "Training Accuracy: 99.9872245289045\n",
      "Validation Accuracy: 83.85283597342872\n",
      "0.9998722452890451\n",
      "0.8385283597342872\n",
      "Training Accuracy: 99.9872245289045\n",
      "Validation Accuracy: 83.80173735309147\n",
      "0.9998722452890451\n",
      "0.8380173735309147\n",
      "Training Accuracy: 99.9872245289045\n",
      "Validation Accuracy: 83.80173735309147\n",
      "0.9998722452890451\n",
      "0.8380173735309147\n",
      "Training Accuracy: 99.9872245289045\n",
      "Validation Accuracy: 83.62289218191108\n",
      "0.9998722452890451\n",
      "0.8362289218191109\n"
     ]
    }
   ],
   "source": [
    "est = [10,20,50,70,100,150,200,250,300,350,400,500,1000]\n",
    "df=pd.read_csv(\"tweets_cleaned.csv\")\n",
    "\n",
    "X_train, X_val, y_train, y_val = train_test_split(df['text_cleaned'], df['class'] , test_size=0.2, stratify = df['class'],random_state=0)\n",
    "\n",
    "for e in est:\n",
    "    model=make_pipeline(TfidfVectorizer(),RandomForestClassifier(n_estimators = e))\n",
    "\n",
    "    model.fit(X_train, y_train)\n",
    "    \n",
    "    labels_train = model.predict(X_train)\n",
    "    labels_val = model.predict(X_val)\n",
    "\n",
    "    print(\"Training Accuracy:\",accuracy_score(y_train, labels_train)*100)\n",
    "    print(\"Validation Accuracy:\",accuracy_score(y_val, labels_val)*100)\n",
    "    print(recall_score(y_train, labels_train, average='weighted'))\n",
    "    print(recall_score(y_val, labels_val, average='weighted'))"
   ]
  },
  {
   "cell_type": "code",
   "execution_count": 14,
   "id": "theoretical-february",
   "metadata": {},
   "outputs": [
    {
     "data": {
      "text/plain": [
       "Pipeline(steps=[('tfidfvectorizer', TfidfVectorizer()),\n",
       "                ('randomforestclassifier', RandomForestClassifier())])"
      ]
     },
     "execution_count": 14,
     "metadata": {},
     "output_type": "execute_result"
    }
   ],
   "source": [
    "df=pd.read_csv(\"tweets_cleaned.csv\")\n",
    "\n",
    "X_train, X_val, y_train, y_val = train_test_split(df['text_cleaned'], df['class'] , test_size=0.2, stratify = df['class'],random_state=0)\n",
    "\n",
    "model=make_pipeline(TfidfVectorizer(),RandomForestClassifier())\n",
    "\n",
    "model.fit(X_train, y_train)"
   ]
  },
  {
   "cell_type": "code",
   "execution_count": 15,
   "id": "backed-mountain",
   "metadata": {},
   "outputs": [
    {
     "name": "stdout",
     "output_type": "stream",
     "text": [
      "Training Accuracy: 99.9872245289045\n",
      "Validation Accuracy: 83.77618804292284\n",
      "0.9998722452890451\n",
      "0.8377618804292284\n",
      "yogi\n",
      "['politics']\n"
     ]
    }
   ],
   "source": [
    "labels_train = model.predict(X_train)\n",
    "labels_val = model.predict(X_val)\n",
    "\n",
    "print(\"Training Accuracy:\",accuracy_score(y_train, labels_train)*100)\n",
    "print(\"Validation Accuracy:\",accuracy_score(y_val, labels_val)*100)\n",
    "print(recall_score(y_train, labels_train, average='weighted'))\n",
    "print(recall_score(y_val, labels_val, average='weighted'))\n",
    "\n",
    "def predict(s,model = model):\n",
    "    print(model.predict([s]))\n",
    "    \n",
    "text = clean_tweets(\"yogi\") \n",
    "print(text)\n",
    "predict(text)"
   ]
  }
 ],
 "metadata": {
  "kernelspec": {
   "display_name": "Python 3",
   "language": "python",
   "name": "python3"
  },
  "language_info": {
   "codemirror_mode": {
    "name": "ipython",
    "version": 3
   },
   "file_extension": ".py",
   "mimetype": "text/x-python",
   "name": "python",
   "nbconvert_exporter": "python",
   "pygments_lexer": "ipython3",
   "version": "3.8.5"
  }
 },
 "nbformat": 4,
 "nbformat_minor": 5
}
