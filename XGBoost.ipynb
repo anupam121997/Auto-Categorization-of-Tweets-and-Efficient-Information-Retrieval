{
 "cells": [
  {
   "cell_type": "code",
   "execution_count": 1,
   "id": "orange-albany",
   "metadata": {},
   "outputs": [],
   "source": [
    "import pandas as pd\n",
    "import re\n",
    "import string\n",
    "import nltk\n",
    "from nltk.corpus import stopwords\n",
    "from nltk.tokenize import word_tokenize\n",
    "stop_words = set(stopwords.words('english'))\n",
    "import wordsegment as ws \n",
    "ws.load() \n",
    "import random\n",
    "import math\n",
    "import numpy as np\n",
    "from sklearn.model_selection import train_test_split\n",
    "from sklearn.pipeline import make_pipeline\n",
    "from sklearn.feature_extraction.text import TfidfVectorizer\n",
    "from sklearn.naive_bayes import MultinomialNB\n",
    "from sklearn.neighbors import NearestCentroid\n",
    "from xgboost import XGBClassifier\n",
    "from sklearn import svm\n",
    "from sklearn.metrics import accuracy_score,recall_score\n",
    "import joblib"
   ]
  },
  {
   "cell_type": "code",
   "execution_count": 2,
   "id": "generous-vaccine",
   "metadata": {},
   "outputs": [],
   "source": [
    "def clean_tweets(text):  \n",
    "    text = text.lower()\n",
    "    text_pattern = re.compile('http[s]?://(?:[a-zA-Z]|[0-9]|[$-_@.&+]|[!*\\(\\),]|(?:%[0-9a-fA-F][0-9a-fA-F]|))+')\n",
    "    text = text_pattern.sub('', text)\n",
    "    emoji = re.compile(\"[\"\n",
    "                        u\"\\U0001F600-\\U0001FFFF\"   #EMOJIS\n",
    "                        u\"\\U0001F300-\\U0001F5FF\"   #Symbols and Pictographs\n",
    "                        u\"\\U0001F680-\\U0001F6FF\"   #map symbols\n",
    "                        u\"\\U0001F1E0-\\U0001F1FF\"   #flags\n",
    "                        u\"\\U00002702-\\U000027B0\"\n",
    "                        u\"\\U000024C2-\\U0001F251\"\n",
    "                        \"]+\", flags=re.UNICODE)\n",
    "    text = emoji.sub(r'', text)\n",
    "    text = re.sub(r'@[a-z0-9]+','',text)\n",
    "   # text = re.sub(r'#', '', text)\n",
    "    text = re.sub(r\"i'm\", \"i am\", text)\n",
    "    text = re.sub(r\"he's\", \"he is\", text)\n",
    "    text = re.sub(r\"she's\", \"she is\", text)\n",
    "    text = re.sub(r\"that's\", \"that is\", text)\n",
    "    text = re.sub(r\"this's\", \"this is\", text)\n",
    "    text = re.sub(r\"what's\", \"what is\", text)\n",
    "    text = re.sub(r\"where's\", \"where is\", text)\n",
    "    text = re.sub(r\"\\'ll\", \"will\", text)\n",
    "    text = re.sub(r\"\\'ve\", \"have\", text)\n",
    "    text = re.sub(r\"\\'m\", \"am\", text)\n",
    "    text = re.sub(r\"\\'d\", \"would\", text)\n",
    "    text = re.sub(r\"\\'re\", \"are\", text)\n",
    "    text = re.sub(r\"won't\", \"will not\", text)\n",
    "    text = re.sub(r\"don't\", \"do not\", text)\n",
    "    text = re.sub(r\"didn't\", \"did not\", text)\n",
    "    text = re.sub(r\"can't\", \"can not\", text)\n",
    "    text = re.sub(r\"it's\", \"it is\", text)\n",
    "    text = re.sub(r\"couldn't\", \"could not\", text)\n",
    "    text = re.sub(r\"haven't\", \"have not\", text)\n",
    "    text = re.sub(r'rt[\\s]+', '', text)\n",
    "\n",
    "    text = re.sub(r\"[,.\\\"!#$%^&*(){}?/;'~:<>+=-]\", \"\", text)\n",
    "    \n",
    "    tokens = word_tokenize(text)\n",
    "    \n",
    "    text = [ws.clean(w) for w in text if len(ws.clean(w)) > 0]\n",
    "    text = [ws.segment(w)[0] for w in text]   #segmentation\n",
    "    \n",
    "    stop_words = set(stopwords.words(\"english\"))\n",
    "    stop_words.discard(\"not\")\n",
    "    table = str.maketrans('','',string.punctuation)\n",
    "    stripped = [w.translate(table) for w in tokens]\n",
    "    words = [word for word in stripped if word.isalpha()]\n",
    "\n",
    "    words = [w for w in words if not w in stop_words]\n",
    "    words = ' '.join(words)\n",
    "        \n",
    "    return words"
   ]
  },
  {
   "cell_type": "code",
   "execution_count": 3,
   "id": "miniature-writer",
   "metadata": {},
   "outputs": [
    {
     "name": "stderr",
     "output_type": "stream",
     "text": [
      "C:\\Users\\LENOVO\\anaconda3\\lib\\site-packages\\xgboost\\sklearn.py:888: UserWarning: The use of label encoder in XGBClassifier is deprecated and will be removed in a future release. To remove this warning, do the following: 1) Pass option use_label_encoder=False when constructing XGBClassifier object; and 2) Encode your labels (y) as integers starting with 0, i.e. 0, 1, 2, ..., [num_class - 1].\n",
      "  warnings.warn(label_encoder_deprecation_msg, UserWarning)\n"
     ]
    },
    {
     "name": "stdout",
     "output_type": "stream",
     "text": [
      "[16:04:47] WARNING: C:/Users/Administrator/workspace/xgboost-win64_release_1.3.0/src/learner.cc:1061: Starting in XGBoost 1.3.0, the default evaluation metric used with the objective 'multi:softprob' was changed from 'merror' to 'mlogloss'. Explicitly set eval_metric if you'd like to restore the old behavior.\n"
     ]
    },
    {
     "data": {
      "text/plain": [
       "Pipeline(steps=[('tfidfvectorizer', TfidfVectorizer()),\n",
       "                ('xgbclassifier',\n",
       "                 XGBClassifier(base_score=0.5, booster='gbtree',\n",
       "                               colsample_bylevel=1, colsample_bynode=1,\n",
       "                               colsample_bytree=1, gamma=0, gpu_id=-1,\n",
       "                               importance_type='gain',\n",
       "                               interaction_constraints='',\n",
       "                               learning_rate=0.300000012, max_delta_step=0,\n",
       "                               max_depth=6, min_child_weight=1, missing=nan,\n",
       "                               monotone_constraints='()', n_estimators=100,\n",
       "                               n_jobs=8, num_parallel_tree=1,\n",
       "                               objective='multi:softprob', random_state=0,\n",
       "                               reg_alpha=0, reg_lambda=1, scale_pos_weight=None,\n",
       "                               subsample=1, tree_method='exact',\n",
       "                               validate_parameters=1, verbosity=None))])"
      ]
     },
     "execution_count": 3,
     "metadata": {},
     "output_type": "execute_result"
    }
   ],
   "source": [
    "df=pd.read_csv(\"tweets_cleaned.csv\")\n",
    "\n",
    "X_train, X_val, y_train, y_val = train_test_split(df['text_cleaned'], df['class'] , test_size=0.2, stratify = df['class'],random_state=0)\n",
    "\n",
    "model=make_pipeline(TfidfVectorizer(),XGBClassifier())\n",
    "\n",
    "model.fit(X_train, y_train)\n"
   ]
  },
  {
   "cell_type": "code",
   "execution_count": 4,
   "id": "regular-morocco",
   "metadata": {},
   "outputs": [
    {
     "name": "stdout",
     "output_type": "stream",
     "text": [
      "Training Accuracy: 88.27850526988182\n",
      "Validation Accuracy: 81.34900357690343\n",
      "0.8827850526988182\n",
      "0.8134900357690342\n",
      "yogi\n",
      "['politics']\n"
     ]
    }
   ],
   "source": [
    "labels_train = model.predict(X_train)\n",
    "labels_val = model.predict(X_val)\n",
    "\n",
    "print(\"Training Accuracy:\",accuracy_score(y_train, labels_train)*100)\n",
    "print(\"Validation Accuracy:\",accuracy_score(y_val, labels_val)*100)\n",
    "print(recall_score(y_train, labels_train, average='weighted'))\n",
    "print(recall_score(y_val, labels_val, average='weighted'))\n",
    "\n",
    "def predict(s,model = model):\n",
    "    print(model.predict([s]))\n",
    "    \n",
    "text = clean_tweets(\"yogi\") \n",
    "print(text)\n",
    "predict(text)"
   ]
  },
  {
   "cell_type": "code",
   "execution_count": null,
   "id": "disciplinary-hundred",
   "metadata": {},
   "outputs": [],
   "source": []
  }
 ],
 "metadata": {
  "kernelspec": {
   "display_name": "Python 3",
   "language": "python",
   "name": "python3"
  },
  "language_info": {
   "codemirror_mode": {
    "name": "ipython",
    "version": 3
   },
   "file_extension": ".py",
   "mimetype": "text/x-python",
   "name": "python",
   "nbconvert_exporter": "python",
   "pygments_lexer": "ipython3",
   "version": "3.8.5"
  }
 },
 "nbformat": 4,
 "nbformat_minor": 5
}
