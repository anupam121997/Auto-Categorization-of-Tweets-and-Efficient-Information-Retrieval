{
 "cells": [
  {
   "cell_type": "code",
   "execution_count": 1,
   "metadata": {},
   "outputs": [
    {
     "name": "stderr",
     "output_type": "stream",
     "text": [
      "[nltk_data] Downloading package stopwords to\n",
      "[nltk_data]     C:\\Users\\LENOVO\\AppData\\Roaming\\nltk_data...\n",
      "[nltk_data]   Package stopwords is already up-to-date!\n"
     ]
    },
    {
     "data": {
      "text/plain": [
       "True"
      ]
     },
     "execution_count": 1,
     "metadata": {},
     "output_type": "execute_result"
    }
   ],
   "source": [
    "import pandas as pd\n",
    "from sklearn.model_selection import train_test_split\n",
    "import numpy as np\n",
    "from sklearn.naive_bayes import MultinomialNB\n",
    "from sklearn.preprocessing import LabelEncoder\n",
    "from sklearn.metrics import accuracy_score\n",
    "from tensorflow.keras.preprocessing.text import Tokenizer\n",
    "from tensorflow.keras.preprocessing.sequence import pad_sequences\n",
    "from keras.models import load_model,save_model\n",
    "import tensorflow as tf\n",
    "from numpy import array\n",
    "from sklearn.model_selection import train_test_split\n",
    "import re\n",
    "import nltk\n",
    "from nltk import word_tokenize\n",
    "from nltk.corpus import stopwords\n",
    "from keras.utils import np_utils\n",
    "Encoder = LabelEncoder()\n",
    "nltk.download('stopwords')"
   ]
  },
  {
   "cell_type": "code",
   "execution_count": 2,
   "metadata": {},
   "outputs": [],
   "source": [
    "data = pd.read_csv(\"tweets_cleaned.csv\")"
   ]
  },
  {
   "cell_type": "code",
   "execution_count": 3,
   "metadata": {},
   "outputs": [
    {
     "data": {
      "text/html": [
       "<div>\n",
       "<style scoped>\n",
       "    .dataframe tbody tr th:only-of-type {\n",
       "        vertical-align: middle;\n",
       "    }\n",
       "\n",
       "    .dataframe tbody tr th {\n",
       "        vertical-align: top;\n",
       "    }\n",
       "\n",
       "    .dataframe thead th {\n",
       "        text-align: right;\n",
       "    }\n",
       "</style>\n",
       "<table border=\"1\" class=\"dataframe\">\n",
       "  <thead>\n",
       "    <tr style=\"text-align: right;\">\n",
       "      <th></th>\n",
       "      <th>id</th>\n",
       "      <th>class</th>\n",
       "      <th>text</th>\n",
       "      <th>text_cleaned</th>\n",
       "    </tr>\n",
       "  </thead>\n",
       "  <tbody>\n",
       "    <tr>\n",
       "      <th>0</th>\n",
       "      <td>1.362219e+18</td>\n",
       "      <td>entertainment</td>\n",
       "      <td>RT @thefirstindia: Fans of #ShahRukhKhan are e...</td>\n",
       "      <td>fans shahrukhkhan eagerly waiting get glimpse ...</td>\n",
       "    </tr>\n",
       "    <tr>\n",
       "      <th>1</th>\n",
       "      <td>1.370396e+18</td>\n",
       "      <td>technology</td>\n",
       "      <td>RT @BambooSystems: Building #cloud #datacenter...</td>\n",
       "      <td>building cloud datacenters internet speed</td>\n",
       "    </tr>\n",
       "    <tr>\n",
       "      <th>2</th>\n",
       "      <td>1.373234e+18</td>\n",
       "      <td>technology</td>\n",
       "      <td>RT @newsycombinator: Tesla's “Full Self Drivin...</td>\n",
       "      <td>teslas full self driving beta laughably bad po...</td>\n",
       "    </tr>\n",
       "    <tr>\n",
       "      <th>3</th>\n",
       "      <td>1.371423e+18</td>\n",
       "      <td>education</td>\n",
       "      <td>👧Visit my new website featuring only my kids b...</td>\n",
       "      <td>visit new website featuring kids books laugh f...</td>\n",
       "    </tr>\n",
       "    <tr>\n",
       "      <th>4</th>\n",
       "      <td>1.371426e+18</td>\n",
       "      <td>education</td>\n",
       "      <td>**NEW POST** AD GIFTED | Book Review: The Libr...</td>\n",
       "      <td>new post ad gifted book review library dead bo...</td>\n",
       "    </tr>\n",
       "    <tr>\n",
       "      <th>...</th>\n",
       "      <td>...</td>\n",
       "      <td>...</td>\n",
       "      <td>...</td>\n",
       "      <td>...</td>\n",
       "    </tr>\n",
       "    <tr>\n",
       "      <th>19564</th>\n",
       "      <td>1.372622e+18</td>\n",
       "      <td>politics</td>\n",
       "      <td>It takes a killer to know a killer - Putin bla...</td>\n",
       "      <td>takes killer know killer putin blasts biden pu...</td>\n",
       "    </tr>\n",
       "    <tr>\n",
       "      <th>19565</th>\n",
       "      <td>1.370659e+18</td>\n",
       "      <td>education</td>\n",
       "      <td>Cats sleep 16 to 18 hours per day. #facts #fun...</td>\n",
       "      <td>cats sleep hours per day facts funfacts love s...</td>\n",
       "    </tr>\n",
       "    <tr>\n",
       "      <th>19566</th>\n",
       "      <td>1.373243e+18</td>\n",
       "      <td>education</td>\n",
       "      <td>🕵🏽 March #STEM Mystery of the Month: Soil Solu...</td>\n",
       "      <td>march stem mystery month soil solution lesson ...</td>\n",
       "    </tr>\n",
       "    <tr>\n",
       "      <th>19567</th>\n",
       "      <td>1.372768e+18</td>\n",
       "      <td>entertainment</td>\n",
       "      <td>Today ott release movies:- \\n\\n#sangathalaivan...</td>\n",
       "      <td>today ott release movies sangathalaivan falcon...</td>\n",
       "    </tr>\n",
       "    <tr>\n",
       "      <th>19568</th>\n",
       "      <td>1.372941e+18</td>\n",
       "      <td>technology</td>\n",
       "      <td>New stable coin project $MTRG sub ten mil mc.....</td>\n",
       "      <td>new stable coin project mtrg sub ten mil mc si...</td>\n",
       "    </tr>\n",
       "  </tbody>\n",
       "</table>\n",
       "<p>19569 rows × 4 columns</p>\n",
       "</div>"
      ],
      "text/plain": [
       "                 id          class  \\\n",
       "0      1.362219e+18  entertainment   \n",
       "1      1.370396e+18     technology   \n",
       "2      1.373234e+18     technology   \n",
       "3      1.371423e+18      education   \n",
       "4      1.371426e+18      education   \n",
       "...             ...            ...   \n",
       "19564  1.372622e+18       politics   \n",
       "19565  1.370659e+18      education   \n",
       "19566  1.373243e+18      education   \n",
       "19567  1.372768e+18  entertainment   \n",
       "19568  1.372941e+18     technology   \n",
       "\n",
       "                                                    text  \\\n",
       "0      RT @thefirstindia: Fans of #ShahRukhKhan are e...   \n",
       "1      RT @BambooSystems: Building #cloud #datacenter...   \n",
       "2      RT @newsycombinator: Tesla's “Full Self Drivin...   \n",
       "3      👧Visit my new website featuring only my kids b...   \n",
       "4      **NEW POST** AD GIFTED | Book Review: The Libr...   \n",
       "...                                                  ...   \n",
       "19564  It takes a killer to know a killer - Putin bla...   \n",
       "19565  Cats sleep 16 to 18 hours per day. #facts #fun...   \n",
       "19566  🕵🏽 March #STEM Mystery of the Month: Soil Solu...   \n",
       "19567  Today ott release movies:- \\n\\n#sangathalaivan...   \n",
       "19568  New stable coin project $MTRG sub ten mil mc.....   \n",
       "\n",
       "                                            text_cleaned  \n",
       "0      fans shahrukhkhan eagerly waiting get glimpse ...  \n",
       "1              building cloud datacenters internet speed  \n",
       "2      teslas full self driving beta laughably bad po...  \n",
       "3      visit new website featuring kids books laugh f...  \n",
       "4      new post ad gifted book review library dead bo...  \n",
       "...                                                  ...  \n",
       "19564  takes killer know killer putin blasts biden pu...  \n",
       "19565  cats sleep hours per day facts funfacts love s...  \n",
       "19566  march stem mystery month soil solution lesson ...  \n",
       "19567  today ott release movies sangathalaivan falcon...  \n",
       "19568  new stable coin project mtrg sub ten mil mc si...  \n",
       "\n",
       "[19569 rows x 4 columns]"
      ]
     },
     "execution_count": 3,
     "metadata": {},
     "output_type": "execute_result"
    }
   ],
   "source": [
    "data"
   ]
  },
  {
   "cell_type": "code",
   "execution_count": 4,
   "metadata": {},
   "outputs": [
    {
     "data": {
      "text/plain": [
       "24"
      ]
     },
     "execution_count": 4,
     "metadata": {},
     "output_type": "execute_result"
    }
   ],
   "source": [
    "data.text_cleaned.apply(lambda x: len(x.split(\" \"))).max()"
   ]
  },
  {
   "cell_type": "code",
   "execution_count": 5,
   "metadata": {},
   "outputs": [],
   "source": [
    "text = data['text_cleaned'].tolist()\n",
    "y = data['class']"
   ]
  },
  {
   "cell_type": "code",
   "execution_count": 6,
   "metadata": {},
   "outputs": [],
   "source": [
    "y = Encoder.fit_transform(y)\n",
    "y = np_utils.to_categorical(y,5)"
   ]
  },
  {
   "cell_type": "code",
   "execution_count": 7,
   "metadata": {},
   "outputs": [
    {
     "data": {
      "text/plain": [
       "array([[0., 1., 0., 0., 0.],\n",
       "       [0., 0., 0., 0., 1.],\n",
       "       [0., 0., 0., 0., 1.],\n",
       "       ...,\n",
       "       [1., 0., 0., 0., 0.],\n",
       "       [0., 1., 0., 0., 0.],\n",
       "       [0., 0., 0., 0., 1.]], dtype=float32)"
      ]
     },
     "execution_count": 7,
     "metadata": {},
     "output_type": "execute_result"
    }
   ],
   "source": [
    "y"
   ]
  },
  {
   "cell_type": "code",
   "execution_count": 8,
   "metadata": {},
   "outputs": [],
   "source": [
    "token = Tokenizer()\n",
    "token.fit_on_texts(text)"
   ]
  },
  {
   "cell_type": "code",
   "execution_count": 9,
   "metadata": {},
   "outputs": [],
   "source": [
    "vocab_size  = len(token.word_index) + 1"
   ]
  },
  {
   "cell_type": "code",
   "execution_count": 10,
   "metadata": {},
   "outputs": [],
   "source": [
    "encoded_text = token.texts_to_sequences(text)"
   ]
  },
  {
   "cell_type": "code",
   "execution_count": 11,
   "metadata": {},
   "outputs": [],
   "source": [
    "max_length = 30\n",
    "X = pad_sequences(encoded_text, maxlen=max_length, padding='post')"
   ]
  },
  {
   "cell_type": "code",
   "execution_count": 12,
   "metadata": {},
   "outputs": [],
   "source": [
    "glove_vectors = dict()"
   ]
  },
  {
   "cell_type": "code",
   "execution_count": 13,
   "metadata": {},
   "outputs": [],
   "source": [
    "file = open('glove.twitter.27B.200d.txt', encoding='utf-8')\n",
    "\n",
    "for line in file:\n",
    "    values = line.split()\n",
    "    word = values[0]\n",
    "    #storing the word in the variable\n",
    "    vectors = np.asarray(values[1: ])\n",
    "    #storing the vector representation of the respective word in the dictionary\n",
    "    glove_vectors[word] = vectors\n",
    "file.close()"
   ]
  },
  {
   "cell_type": "code",
   "execution_count": 14,
   "metadata": {},
   "outputs": [],
   "source": [
    "keys = glove_vectors.keys()"
   ]
  },
  {
   "cell_type": "code",
   "execution_count": 15,
   "metadata": {},
   "outputs": [],
   "source": [
    "word_vector_matrix = np.zeros((vocab_size, 200))\n",
    "for word, index in token.word_index.items():\n",
    "    vector = glove_vectors.get(word)\n",
    "    if vector is not None:\n",
    "        word_vector_matrix[index] = vector"
   ]
  },
  {
   "cell_type": "code",
   "execution_count": 16,
   "metadata": {},
   "outputs": [],
   "source": [
    "X_train, X_test, y_train, y_test = train_test_split(X, y, random_state = 42, test_size = 0.3, stratify = y)"
   ]
  },
  {
   "cell_type": "code",
   "execution_count": 17,
   "metadata": {},
   "outputs": [],
   "source": [
    "model =  tf.keras.Sequential([\n",
    "    tf.keras.layers.Embedding(vocab_size, 200, input_length=max_length, weights = [word_vector_matrix], trainable = False),\n",
    "    tf.keras.layers.Bidirectional(tf.keras.layers.LSTM(64, return_sequences=True)),\n",
    "    tf.keras.layers.Bidirectional(tf.keras.layers.LSTM(32)),\n",
    "    tf.keras.layers.Dense(128, activation='relu'),\n",
    "    tf.keras.layers.Dense(64, activation='relu'),\n",
    "    tf.keras.layers.Dropout(0.5),\n",
    "    tf.keras.layers.Dense(5)\n",
    "])"
   ]
  },
  {
   "cell_type": "code",
   "execution_count": 18,
   "metadata": {},
   "outputs": [
    {
     "name": "stdout",
     "output_type": "stream",
     "text": [
      "Model: \"sequential\"\n",
      "_________________________________________________________________\n",
      "Layer (type)                 Output Shape              Param #   \n",
      "=================================================================\n",
      "embedding (Embedding)        (None, 30, 200)           5309200   \n",
      "_________________________________________________________________\n",
      "bidirectional (Bidirectional (None, 30, 128)           135680    \n",
      "_________________________________________________________________\n",
      "bidirectional_1 (Bidirection (None, 64)                41216     \n",
      "_________________________________________________________________\n",
      "dense (Dense)                (None, 128)               8320      \n",
      "_________________________________________________________________\n",
      "dense_1 (Dense)              (None, 64)                8256      \n",
      "_________________________________________________________________\n",
      "dropout (Dropout)            (None, 64)                0         \n",
      "_________________________________________________________________\n",
      "dense_2 (Dense)              (None, 5)                 325       \n",
      "=================================================================\n",
      "Total params: 5,502,997\n",
      "Trainable params: 193,797\n",
      "Non-trainable params: 5,309,200\n",
      "_________________________________________________________________\n"
     ]
    }
   ],
   "source": [
    "model.summary()"
   ]
  },
  {
   "cell_type": "code",
   "execution_count": 19,
   "metadata": {},
   "outputs": [],
   "source": [
    "model.compile(loss=tf.keras.losses.CategoricalCrossentropy(from_logits=True), \n",
    "             optimizer=tf.keras.optimizers.Adam(1e-4), \n",
    "             metrics=['accuracy'])"
   ]
  },
  {
   "cell_type": "code",
   "execution_count": 20,
   "metadata": {},
   "outputs": [
    {
     "name": "stdout",
     "output_type": "stream",
     "text": [
      "Epoch 1/25\n",
      "429/429 [==============================] - 33s 43ms/step - loss: 1.4539 - accuracy: 0.3662 - val_loss: 0.7882 - val_accuracy: 0.7307\n",
      "Epoch 2/25\n",
      "429/429 [==============================] - 11s 25ms/step - loss: 0.8066 - accuracy: 0.7232 - val_loss: 0.6680 - val_accuracy: 0.7699\n",
      "Epoch 3/25\n",
      "429/429 [==============================] - 13s 30ms/step - loss: 0.6865 - accuracy: 0.7757 - val_loss: 0.6149 - val_accuracy: 0.7895\n",
      "Epoch 4/25\n",
      "429/429 [==============================] - 13s 30ms/step - loss: 0.6445 - accuracy: 0.7904 - val_loss: 0.6065 - val_accuracy: 0.7866\n",
      "Epoch 5/25\n",
      "429/429 [==============================] - 14s 32ms/step - loss: 0.5898 - accuracy: 0.8074 - val_loss: 0.5888 - val_accuracy: 0.7985\n",
      "Epoch 6/25\n",
      "429/429 [==============================] - 13s 31ms/step - loss: 0.5631 - accuracy: 0.8162 - val_loss: 0.5853 - val_accuracy: 0.8022\n",
      "Epoch 7/25\n",
      "429/429 [==============================] - 14s 32ms/step - loss: 0.5399 - accuracy: 0.8245 - val_loss: 0.5785 - val_accuracy: 0.8004\n",
      "Epoch 8/25\n",
      "429/429 [==============================] - 14s 33ms/step - loss: 0.5204 - accuracy: 0.8354 - val_loss: 0.5709 - val_accuracy: 0.8065\n",
      "Epoch 9/25\n",
      "429/429 [==============================] - 14s 34ms/step - loss: 0.5044 - accuracy: 0.8386 - val_loss: 0.5763 - val_accuracy: 0.8040\n",
      "Epoch 10/25\n",
      "429/429 [==============================] - 15s 34ms/step - loss: 0.4795 - accuracy: 0.8451 - val_loss: 0.5764 - val_accuracy: 0.8082\n",
      "Epoch 11/25\n",
      "429/429 [==============================] - 15s 34ms/step - loss: 0.4509 - accuracy: 0.8567 - val_loss: 0.5589 - val_accuracy: 0.8120\n",
      "Epoch 12/25\n",
      "429/429 [==============================] - 15s 34ms/step - loss: 0.4223 - accuracy: 0.8671 - val_loss: 0.5783 - val_accuracy: 0.8091\n",
      "Epoch 13/25\n",
      "429/429 [==============================] - 15s 34ms/step - loss: 0.4438 - accuracy: 0.8633 - val_loss: 0.5685 - val_accuracy: 0.8082\n",
      "Epoch 14/25\n",
      "429/429 [==============================] - 15s 34ms/step - loss: 0.3920 - accuracy: 0.8772 - val_loss: 0.5753 - val_accuracy: 0.8186\n",
      "Epoch 15/25\n",
      "429/429 [==============================] - 15s 34ms/step - loss: 0.3679 - accuracy: 0.8878 - val_loss: 0.5822 - val_accuracy: 0.8177\n",
      "Epoch 16/25\n",
      "429/429 [==============================] - 15s 34ms/step - loss: 0.3465 - accuracy: 0.8956 - val_loss: 0.5970 - val_accuracy: 0.8125\n",
      "Epoch 17/25\n",
      "429/429 [==============================] - 16s 37ms/step - loss: 0.3308 - accuracy: 0.8998 - val_loss: 0.6070 - val_accuracy: 0.8184\n",
      "Epoch 18/25\n",
      "429/429 [==============================] - 16s 37ms/step - loss: 0.3127 - accuracy: 0.9061 - val_loss: 0.6271 - val_accuracy: 0.8143\n",
      "Epoch 19/25\n",
      "429/429 [==============================] - 16s 38ms/step - loss: 0.2960 - accuracy: 0.9122 - val_loss: 0.6198 - val_accuracy: 0.8227\n",
      "Epoch 20/25\n",
      "429/429 [==============================] - 16s 37ms/step - loss: 0.2816 - accuracy: 0.9141 - val_loss: 0.6174 - val_accuracy: 0.8167\n",
      "Epoch 21/25\n",
      "429/429 [==============================] - 15s 35ms/step - loss: 0.2665 - accuracy: 0.9230 - val_loss: 0.6417 - val_accuracy: 0.8203\n",
      "Epoch 22/25\n",
      "429/429 [==============================] - 15s 35ms/step - loss: 0.2492 - accuracy: 0.9298 - val_loss: 0.6570 - val_accuracy: 0.8171\n",
      "Epoch 23/25\n",
      "429/429 [==============================] - 15s 35ms/step - loss: 0.2346 - accuracy: 0.9356 - val_loss: 0.6444 - val_accuracy: 0.8133\n",
      "Epoch 24/25\n",
      "429/429 [==============================] - 15s 34ms/step - loss: 0.2184 - accuracy: 0.9373 - val_loss: 0.7235 - val_accuracy: 0.8135\n",
      "Epoch 25/25\n",
      "429/429 [==============================] - 15s 35ms/step - loss: 0.2117 - accuracy: 0.9379 - val_loss: 0.6850 - val_accuracy: 0.8201\n"
     ]
    }
   ],
   "source": [
    "history = model.fit(x = X_train, y = y_train, epochs = 25, validation_data = (X_test, y_test))\n",
    "\n",
    "model.save('malenoma.h5')\n",
    "\n",
    "model.save_weights('malenoma_weights.h5')"
   ]
  },
  {
   "cell_type": "code",
   "execution_count": 21,
   "metadata": {},
   "outputs": [
    {
     "name": "stdout",
     "output_type": "stream",
     "text": [
      "184/184 [==============================] - 2s 9ms/step - loss: 0.6850 - accuracy: 0.8201\n"
     ]
    },
    {
     "data": {
      "text/plain": [
       "0.820132851600647"
      ]
     },
     "execution_count": 21,
     "metadata": {},
     "output_type": "execute_result"
    }
   ],
   "source": [
    "y = model.evaluate(x = X_test, y = y_test)\n",
    "y[1]"
   ]
  },
  {
   "cell_type": "code",
   "execution_count": 22,
   "metadata": {},
   "outputs": [
    {
     "data": {
      "image/png": "[encoded data removed]",
      "text/plain": [
       "<Figure size 432x288 with 1 Axes>"
      ]
     },
     "metadata": {
      "needs_background": "light"
     },
     "output_type": "display_data"
    },
    {
     "data": {
      "text/plain": [
       "<Figure size 432x288 with 0 Axes>"
      ]
     },
     "metadata": {},
     "output_type": "display_data"
    },
    {
     "data": {
      "image/png": "[encoded data removed]",
      "text/plain": [
       "<Figure size 432x288 with 1 Axes>"
      ]
     },
     "metadata": {
      "needs_background": "light"
     },
     "output_type": "display_data"
    },
    {
     "data": {
      "text/plain": [
       "<Figure size 432x288 with 0 Axes>"
      ]
     },
     "metadata": {},
     "output_type": "display_data"
    }
   ],
   "source": [
    "import matplotlib.pyplot as plt\n",
    "train_acc = history.history['accuracy']\n",
    "test_acc = history.history['val_accuracy']\n",
    "epochs = range(1,len(train_acc)+1)\n",
    "plt.plot(epochs, train_acc, 'r', label='Training accuracy')\n",
    "plt.plot(epochs, test_acc, 'b', label='Testing accuracy')\n",
    "plt.title('Training  and Testing Accuracy')\n",
    "plt.xlabel('Epochs')\n",
    "plt.ylabel('Accuracy')\n",
    "plt.legend(loc=0)\n",
    "plt.figure()\n",
    "plt.show()\n",
    "\n",
    "train_loss = history.history['loss']\n",
    "test_loss = history.history['val_loss']\n",
    "plt.plot(epochs, train_loss, 'r', label='Training Loss')\n",
    "plt.plot(epochs, test_loss, 'b', label='Testing Loss')\n",
    "plt.title('Training  and Testing Loss')\n",
    "plt.xlabel('Epochs')\n",
    "plt.ylabel('Loss')\n",
    "plt.legend(loc=0)\n",
    "plt.figure()\n",
    "plt.show()"
   ]
  }
 ],
 "metadata": {
  "kernelspec": {
   "display_name": "Python 3",
   "language": "python",
   "name": "python3"
  },
  "language_info": {
   "codemirror_mode": {
    "name": "ipython",
    "version": 3
   },
   "file_extension": ".py",
   "mimetype": "text/x-python",
   "name": "python",
   "nbconvert_exporter": "python",
   "pygments_lexer": "ipython3",
   "version": "3.8.5"
  }
 },
 "nbformat": 4,
 "nbformat_minor": 4
}
